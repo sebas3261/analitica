{
 "cells": [
  {
   "cell_type": "markdown",
   "id": "a3541ccf-0aa5-4317-a481-68c1b474e908",
   "metadata": {},
   "source": [
    "# Procesamiento de datos\n",
    "\n",
    "El primer paso en el preprocesamiento de datos es cargar la base de datos en un DataFrame para su posterior análisis y manipulación."
   ]
  },
  {
   "cell_type": "code",
   "execution_count": 90,
   "id": "22485f9e-21dc-4dbb-8fc2-fc30bdbe1882",
   "metadata": {},
   "outputs": [],
   "source": [
    "import pandas as pd\n",
    "import pandas as pd\n",
    "import seaborn as sns\n",
    "import matplotlib.pyplot as plt\n",
    "\n",
    "df = pd.read_csv(\"assets/datos_proyecto_teams.csv\")"
   ]
  },
  {
   "cell_type": "markdown",
   "id": "f4730ec2-9c8a-4dee-a7bf-1d02ed100625",
   "metadata": {},
   "source": [
    "## Análisis de Variables:\n",
    "Para obtener un resumen estadístico de las variables numéricas, utilizamos:"
   ]
  },
  {
   "cell_type": "code",
   "execution_count": 58,
   "id": "62d8a280-df26-40bb-8be4-ee73b9784267",
   "metadata": {},
   "outputs": [
    {
     "data": {
      "text/html": [
       "<div>\n",
       "<style scoped>\n",
       "    .dataframe tbody tr th:only-of-type {\n",
       "        vertical-align: middle;\n",
       "    }\n",
       "\n",
       "    .dataframe tbody tr th {\n",
       "        vertical-align: top;\n",
       "    }\n",
       "\n",
       "    .dataframe thead th {\n",
       "        text-align: right;\n",
       "    }\n",
       "</style>\n",
       "<table border=\"1\" class=\"dataframe\">\n",
       "  <thead>\n",
       "    <tr style=\"text-align: right;\">\n",
       "      <th></th>\n",
       "      <th>Anio</th>\n",
       "      <th>ID_Cliente</th>\n",
       "      <th>Edad</th>\n",
       "      <th>Frecuencia_Compra</th>\n",
       "      <th>Monto_Total_Gastado</th>\n",
       "      <th>Nivel_Satisfaccion</th>\n",
       "      <th>Cantidad_Devoluciones</th>\n",
       "      <th>Usa_Promociones</th>\n",
       "      <th>PIB</th>\n",
       "      <th>Desempleo</th>\n",
       "      <th>Inflacion</th>\n",
       "      <th>Confianza_Consumidor</th>\n",
       "      <th>Precios_Vivienda</th>\n",
       "      <th>Tasas_Interes</th>\n",
       "      <th>Endeudamiento</th>\n",
       "    </tr>\n",
       "  </thead>\n",
       "  <tbody>\n",
       "    <tr>\n",
       "      <th>count</th>\n",
       "      <td>40000.000000</td>\n",
       "      <td>40000.000000</td>\n",
       "      <td>38000.000000</td>\n",
       "      <td>38000.000000</td>\n",
       "      <td>38021.000000</td>\n",
       "      <td>38017.000000</td>\n",
       "      <td>40000.000000</td>\n",
       "      <td>40000.00000</td>\n",
       "      <td>40000.000000</td>\n",
       "      <td>40000.000000</td>\n",
       "      <td>40000.000000</td>\n",
       "      <td>40000.000000</td>\n",
       "      <td>40000.000000</td>\n",
       "      <td>40000.000000</td>\n",
       "      <td>40000.000000</td>\n",
       "    </tr>\n",
       "    <tr>\n",
       "      <th>mean</th>\n",
       "      <td>2011.375000</td>\n",
       "      <td>250.500000</td>\n",
       "      <td>35.623684</td>\n",
       "      <td>5.142605</td>\n",
       "      <td>738.259122</td>\n",
       "      <td>8.381755</td>\n",
       "      <td>1.563025</td>\n",
       "      <td>0.45415</td>\n",
       "      <td>132.205274</td>\n",
       "      <td>7.394391</td>\n",
       "      <td>2.521113</td>\n",
       "      <td>70.841849</td>\n",
       "      <td>215072.491666</td>\n",
       "      <td>4.194942</td>\n",
       "      <td>85.185408</td>\n",
       "    </tr>\n",
       "    <tr>\n",
       "      <th>std</th>\n",
       "      <td>7.398361</td>\n",
       "      <td>144.339083</td>\n",
       "      <td>11.710220</td>\n",
       "      <td>2.371275</td>\n",
       "      <td>257.294584</td>\n",
       "      <td>1.642600</td>\n",
       "      <td>1.272564</td>\n",
       "      <td>0.49790</td>\n",
       "      <td>22.379293</td>\n",
       "      <td>2.353517</td>\n",
       "      <td>0.662488</td>\n",
       "      <td>10.448727</td>\n",
       "      <td>39129.873283</td>\n",
       "      <td>0.978765</td>\n",
       "      <td>12.229236</td>\n",
       "    </tr>\n",
       "    <tr>\n",
       "      <th>min</th>\n",
       "      <td>2000.000000</td>\n",
       "      <td>1.000000</td>\n",
       "      <td>18.000000</td>\n",
       "      <td>1.000000</td>\n",
       "      <td>100.000000</td>\n",
       "      <td>1.000000</td>\n",
       "      <td>0.000000</td>\n",
       "      <td>0.00000</td>\n",
       "      <td>102.312438</td>\n",
       "      <td>3.885450</td>\n",
       "      <td>1.626465</td>\n",
       "      <td>40.853916</td>\n",
       "      <td>156660.256540</td>\n",
       "      <td>2.358798</td>\n",
       "      <td>67.458029</td>\n",
       "    </tr>\n",
       "    <tr>\n",
       "      <th>25%</th>\n",
       "      <td>2004.750000</td>\n",
       "      <td>125.750000</td>\n",
       "      <td>27.000000</td>\n",
       "      <td>3.000000</td>\n",
       "      <td>562.188015</td>\n",
       "      <td>7.266214</td>\n",
       "      <td>1.000000</td>\n",
       "      <td>0.00000</td>\n",
       "      <td>113.821652</td>\n",
       "      <td>5.680660</td>\n",
       "      <td>2.113829</td>\n",
       "      <td>64.369601</td>\n",
       "      <td>178893.926438</td>\n",
       "      <td>3.396788</td>\n",
       "      <td>74.673619</td>\n",
       "    </tr>\n",
       "    <tr>\n",
       "      <th>50%</th>\n",
       "      <td>2011.000000</td>\n",
       "      <td>250.500000</td>\n",
       "      <td>35.000000</td>\n",
       "      <td>5.000000</td>\n",
       "      <td>735.040002</td>\n",
       "      <td>8.751857</td>\n",
       "      <td>1.000000</td>\n",
       "      <td>0.00000</td>\n",
       "      <td>130.118796</td>\n",
       "      <td>7.673457</td>\n",
       "      <td>2.334136</td>\n",
       "      <td>72.770067</td>\n",
       "      <td>217727.575032</td>\n",
       "      <td>4.372869</td>\n",
       "      <td>84.876632</td>\n",
       "    </tr>\n",
       "    <tr>\n",
       "      <th>75%</th>\n",
       "      <td>2018.000000</td>\n",
       "      <td>375.250000</td>\n",
       "      <td>44.000000</td>\n",
       "      <td>7.000000</td>\n",
       "      <td>907.687807</td>\n",
       "      <td>10.000000</td>\n",
       "      <td>2.000000</td>\n",
       "      <td>1.00000</td>\n",
       "      <td>147.771465</td>\n",
       "      <td>8.907863</td>\n",
       "      <td>2.833397</td>\n",
       "      <td>77.783046</td>\n",
       "      <td>249233.475320</td>\n",
       "      <td>5.101928</td>\n",
       "      <td>94.505757</td>\n",
       "    </tr>\n",
       "    <tr>\n",
       "      <th>max</th>\n",
       "      <td>2024.000000</td>\n",
       "      <td>500.000000</td>\n",
       "      <td>75.000000</td>\n",
       "      <td>15.000000</td>\n",
       "      <td>1701.581040</td>\n",
       "      <td>10.000000</td>\n",
       "      <td>5.000000</td>\n",
       "      <td>1.00000</td>\n",
       "      <td>231.755489</td>\n",
       "      <td>20.000000</td>\n",
       "      <td>4.486326</td>\n",
       "      <td>87.573336</td>\n",
       "      <td>280482.856566</td>\n",
       "      <td>5.687831</td>\n",
       "      <td>119.502286</td>\n",
       "    </tr>\n",
       "  </tbody>\n",
       "</table>\n",
       "</div>"
      ],
      "text/plain": [
       "               Anio    ID_Cliente          Edad  Frecuencia_Compra  \\\n",
       "count  40000.000000  40000.000000  38000.000000       38000.000000   \n",
       "mean    2011.375000    250.500000     35.623684           5.142605   \n",
       "std        7.398361    144.339083     11.710220           2.371275   \n",
       "min     2000.000000      1.000000     18.000000           1.000000   \n",
       "25%     2004.750000    125.750000     27.000000           3.000000   \n",
       "50%     2011.000000    250.500000     35.000000           5.000000   \n",
       "75%     2018.000000    375.250000     44.000000           7.000000   \n",
       "max     2024.000000    500.000000     75.000000          15.000000   \n",
       "\n",
       "       Monto_Total_Gastado  Nivel_Satisfaccion  Cantidad_Devoluciones  \\\n",
       "count         38021.000000        38017.000000           40000.000000   \n",
       "mean            738.259122            8.381755               1.563025   \n",
       "std             257.294584            1.642600               1.272564   \n",
       "min             100.000000            1.000000               0.000000   \n",
       "25%             562.188015            7.266214               1.000000   \n",
       "50%             735.040002            8.751857               1.000000   \n",
       "75%             907.687807           10.000000               2.000000   \n",
       "max            1701.581040           10.000000               5.000000   \n",
       "\n",
       "       Usa_Promociones           PIB     Desempleo     Inflacion  \\\n",
       "count      40000.00000  40000.000000  40000.000000  40000.000000   \n",
       "mean           0.45415    132.205274      7.394391      2.521113   \n",
       "std            0.49790     22.379293      2.353517      0.662488   \n",
       "min            0.00000    102.312438      3.885450      1.626465   \n",
       "25%            0.00000    113.821652      5.680660      2.113829   \n",
       "50%            0.00000    130.118796      7.673457      2.334136   \n",
       "75%            1.00000    147.771465      8.907863      2.833397   \n",
       "max            1.00000    231.755489     20.000000      4.486326   \n",
       "\n",
       "       Confianza_Consumidor  Precios_Vivienda  Tasas_Interes  Endeudamiento  \n",
       "count          40000.000000      40000.000000   40000.000000   40000.000000  \n",
       "mean              70.841849     215072.491666       4.194942      85.185408  \n",
       "std               10.448727      39129.873283       0.978765      12.229236  \n",
       "min               40.853916     156660.256540       2.358798      67.458029  \n",
       "25%               64.369601     178893.926438       3.396788      74.673619  \n",
       "50%               72.770067     217727.575032       4.372869      84.876632  \n",
       "75%               77.783046     249233.475320       5.101928      94.505757  \n",
       "max               87.573336     280482.856566       5.687831     119.502286  "
      ]
     },
     "execution_count": 58,
     "metadata": {},
     "output_type": "execute_result"
    }
   ],
   "source": [
    "df.describe()"
   ]
  },
  {
   "cell_type": "markdown",
   "id": "00b66040-d7f4-486c-9bfa-c7b9197f488c",
   "metadata": {},
   "source": [
    "Para explorar las variables categóricas del dataset, empleamos:"
   ]
  },
  {
   "cell_type": "code",
   "execution_count": 47,
   "id": "9d627cea-b3c3-4db5-9fb4-998889c11904",
   "metadata": {},
   "outputs": [
    {
     "data": {
      "text/html": [
       "<div>\n",
       "<style scoped>\n",
       "    .dataframe tbody tr th:only-of-type {\n",
       "        vertical-align: middle;\n",
       "    }\n",
       "\n",
       "    .dataframe tbody tr th {\n",
       "        vertical-align: top;\n",
       "    }\n",
       "\n",
       "    .dataframe thead th {\n",
       "        text-align: right;\n",
       "    }\n",
       "</style>\n",
       "<table border=\"1\" class=\"dataframe\">\n",
       "  <thead>\n",
       "    <tr style=\"text-align: right;\">\n",
       "      <th></th>\n",
       "      <th>Categoria_Favorita</th>\n",
       "    </tr>\n",
       "  </thead>\n",
       "  <tbody>\n",
       "    <tr>\n",
       "      <th>count</th>\n",
       "      <td>40000</td>\n",
       "    </tr>\n",
       "    <tr>\n",
       "      <th>unique</th>\n",
       "      <td>4</td>\n",
       "    </tr>\n",
       "    <tr>\n",
       "      <th>top</th>\n",
       "      <td>Electrónica</td>\n",
       "    </tr>\n",
       "    <tr>\n",
       "      <th>freq</th>\n",
       "      <td>13835</td>\n",
       "    </tr>\n",
       "  </tbody>\n",
       "</table>\n",
       "</div>"
      ],
      "text/plain": [
       "       Categoria_Favorita\n",
       "count               40000\n",
       "unique                  4\n",
       "top           Electrónica\n",
       "freq                13835"
      ]
     },
     "execution_count": 47,
     "metadata": {},
     "output_type": "execute_result"
    }
   ],
   "source": [
    "df.describe(include = object)"
   ]
  },
  {
   "cell_type": "markdown",
   "id": "85e607cc-ae1d-4b5d-abf3-9640f46e9291",
   "metadata": {},
   "source": [
    "El primer paso es encontrar las categorías con datos faltantes"
   ]
  },
  {
   "cell_type": "code",
   "execution_count": 79,
   "id": "5a3e1f05-44e0-4488-92ff-d127b9980186",
   "metadata": {},
   "outputs": [
    {
     "name": "stdout",
     "output_type": "stream",
     "text": [
      "Anio                        0\n",
      "ID_Cliente                  0\n",
      "Edad                     2000\n",
      "Frecuencia_Compra        2000\n",
      "Monto_Total_Gastado      1979\n",
      "Nivel_Satisfaccion       1983\n",
      "Categoria_Favorita          0\n",
      "Cantidad_Devoluciones       0\n",
      "Usa_Promociones             0\n",
      "PIB                         0\n",
      "Desempleo                   0\n",
      "Inflacion                   0\n",
      "Confianza_Consumidor        0\n",
      "Precios_Vivienda            0\n",
      "Tasas_Interes               0\n",
      "Endeudamiento               0\n",
      "dtype: int64\n"
     ]
    }
   ],
   "source": [
    "print(df.isnull().sum())"
   ]
  },
  {
   "cell_type": "markdown",
   "id": "cc796b76-d12e-4f79-b8d1-c25b1aca8d6f",
   "metadata": {},
   "source": [
    "Para lo siguiente decidimos tratar la edad asi:"
   ]
  },
  {
   "cell_type": "code",
   "execution_count": 83,
   "id": "52f9023a-fc89-4bc5-a351-cd904c438559",
   "metadata": {},
   "outputs": [],
   "source": [
    "# tratamiento de la edad"
   ]
  },
  {
   "cell_type": "markdown",
   "id": "bcda015e-cefa-4c23-b8a0-833880034c9a",
   "metadata": {},
   "source": [
    "Para lo siguiente decidimos tratar la frecuencia asi:"
   ]
  },
  {
   "cell_type": "code",
   "execution_count": 86,
   "id": "cd6e7e69-a231-4f6a-a824-94c0ca419ca0",
   "metadata": {},
   "outputs": [],
   "source": [
    "#tratamiento de frecuencia "
   ]
  },
  {
   "cell_type": "markdown",
   "id": "12b444f6-3a63-4bdb-8553-8c7ad2bbef69",
   "metadata": {},
   "source": [
    "etc"
   ]
  },
  {
   "cell_type": "markdown",
   "id": "eb31c8dc-a214-4fbf-9eac-c9d8ba6253cb",
   "metadata": {},
   "source": [
    "Y ahora revisamos los datos atipicos para etso hacemos un diagrama de cajas y bigotes para cada categoría"
   ]
  },
  {
   "cell_type": "code",
   "execution_count": 96,
   "id": "36370761-243d-4c04-98f0-4521054a7099",
   "metadata": {},
   "outputs": [
    {
     "data": {
      "image/png": "[encoded data removed]",
      "text/plain": [
       "<Figure size 640x480 with 1 Axes>"
      ]
     },
     "metadata": {},
     "output_type": "display_data"
    }
   ],
   "source": [
    "sns.boxplot(x=df[\"Anio\"])\n",
    "plt.title(\"Año\")\n",
    "plt.show()\n"
   ]
  },
  {
   "cell_type": "code",
   "execution_count": null,
   "id": "2b7c4ea7-91e7-469f-b0c3-808a6aecded2",
   "metadata": {},
   "outputs": [],
   "source": []
  }
 ],
 "metadata": {
  "kernelspec": {
   "display_name": "Python [conda env:base] *",
   "language": "python",
   "name": "conda-base-py"
  },
  "language_info": {
   "codemirror_mode": {
    "name": "ipython",
    "version": 3
   },
   "file_extension": ".py",
   "mimetype": "text/x-python",
   "name": "python",
   "nbconvert_exporter": "python",
   "pygments_lexer": "ipython3",
   "version": "3.12.7"
  }
 },
 "nbformat": 4,
 "nbformat_minor": 5
}
